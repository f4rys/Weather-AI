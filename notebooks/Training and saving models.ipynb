{
 "cells": [
  {
   "cell_type": "code",
   "execution_count": null,
   "metadata": {},
   "outputs": [],
   "source": [
    "import pandas as pd\n",
    "from prophet import Prophet\n",
    "import joblib"
   ]
  },
  {
   "cell_type": "code",
   "execution_count": null,
   "metadata": {},
   "outputs": [],
   "source": [
    "data = pd.read_csv('data.csv', low_memory=False)\n",
    "data['DATE'] = pd.to_datetime(data['DATE'])"
   ]
  },
  {
   "cell_type": "code",
   "execution_count": null,
   "metadata": {},
   "outputs": [],
   "source": [
    "data_min = data[['DATE', 'TMIN']]\n",
    "data_max = data[['DATE', 'TMAX']]\n",
    "data_pre = data[['DATE', 'SMDB']]\n",
    "\n",
    "data_min.dropna(inplace=True)\n",
    "data_max.dropna(inplace=True)\n",
    "data_pre.dropna(inplace=True)\n",
    "\n",
    "data_min.columns = ['ds', 'y']\n",
    "data_max.columns = ['ds', 'y']\n",
    "data_pre.columns = ['ds', 'y']"
   ]
  },
  {
   "cell_type": "code",
   "execution_count": null,
   "metadata": {},
   "outputs": [],
   "source": [
    "model_min = Prophet()\n",
    "model_max = Prophet()\n",
    "model_pre = Prophet()"
   ]
  },
  {
   "cell_type": "code",
   "execution_count": null,
   "metadata": {},
   "outputs": [],
   "source": [
    "model_min.fit(data_min)\n",
    "model_max.fit(data_max)\n",
    "model_pre.fit(data_pre)"
   ]
  },
  {
   "cell_type": "code",
   "execution_count": null,
   "metadata": {},
   "outputs": [],
   "source": [
    "joblib.dump(model_min, 'models/model_min.joblib', compress=9)\n",
    "joblib.dump(model_max, 'models/model_max.joblib', compress=9)\n",
    "joblib.dump(model_pre, 'models/model_pre.joblib', compress=9)"
   ]
  }
 ],
 "metadata": {
  "kernelspec": {
   "display_name": "Golden Scenario Env",
   "language": "python",
   "name": "golden_scenario_env"
  },
  "language_info": {
   "codemirror_mode": {
    "name": "ipython",
    "version": 3
   },
   "file_extension": ".py",
   "mimetype": "text/x-python",
   "name": "python",
   "nbconvert_exporter": "python",
   "pygments_lexer": "ipython3",
   "version": "3.7.13"
  },
  "orig_nbformat": 4
 },
 "nbformat": 4,
 "nbformat_minor": 2
}
